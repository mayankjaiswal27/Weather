{
 "cells": [
  {
   "cell_type": "code",
   "execution_count": 3,
   "id": "f4affaf6",
   "metadata": {},
   "outputs": [
    {
     "name": "stdout",
     "output_type": "stream",
     "text": [
      "\n",
      "Todo List Menu:\n",
      "1. Add Task\n",
      "2. Delete Task\n",
      "3. Mark Task as Completed\n",
      "4. Display Tasks\n",
      "5. Exit\n",
      "Enter your choice: 1\n",
      "Enter task to add: Gym\n",
      "Task added successfully.\n",
      "\n",
      "Todo List Menu:\n",
      "1. Add Task\n",
      "2. Delete Task\n",
      "3. Mark Task as Completed\n",
      "4. Display Tasks\n",
      "5. Exit\n",
      "Enter your choice: 5\n",
      "Exiting...\n"
     ]
    }
   ],
   "source": [
    "todo_list = []\n",
    "\n",
    "def add_task(task):\n",
    "    todo_list.append({'task': task, 'completed': False})\n",
    "    print(\"Task added successfully.\")\n",
    "\n",
    "def delete_task(index):\n",
    "    del todo_list[index]\n",
    "    print(\"Task deleted successfully.\")\n",
    "\n",
    "def mark_task_completed(index):\n",
    "    todo_list[index]['completed'] = True\n",
    "    print(\"Task marked as completed.\")\n",
    "\n",
    "def display_tasks():\n",
    "    if not todo_list:\n",
    "        print(\"No tasks in the list.\")\n",
    "    else:\n",
    "        for index, task in enumerate(todo_list):\n",
    "            status = '✓' if task['completed'] else '◻'\n",
    "            print(f\"{index + 1}. [{status}] {task['task']}\")\n",
    "\n",
    "def main():\n",
    "    while True:\n",
    "        print(\"\\nTodo List Menu:\")\n",
    "        print(\"1. Add Task\")\n",
    "        print(\"2. Delete Task\")\n",
    "        print(\"3. Mark Task as Completed\")\n",
    "        print(\"4. Display Tasks\")\n",
    "        print(\"5. Exit\")\n",
    "\n",
    "        choice = input(\"Enter your choice: \")\n",
    "\n",
    "        if choice == '1':\n",
    "            task = input(\"Enter task to add: \")\n",
    "            add_task(task)\n",
    "        elif choice == '2':\n",
    "            index = int(input(\"Enter index of task to delete: \")) - 1\n",
    "            delete_task(index)\n",
    "        elif choice == '3':\n",
    "            index = int(input(\"Enter index of task to mark as completed: \")) - 1\n",
    "            mark_task_completed(index)\n",
    "        elif choice == '4':\n",
    "            display_tasks()\n",
    "        elif choice == '5':\n",
    "            print(\"Exiting...\")\n",
    "            break\n",
    "        else:\n",
    "            print(\"Invalid choice. Please try again.\")\n",
    "\n",
    "if __name__ == \"__main__\":\n",
    "    main()\n"
   ]
  },
  {
   "cell_type": "code",
   "execution_count": null,
   "id": "7ec0871b",
   "metadata": {},
   "outputs": [
    {
     "name": "stdout",
     "output_type": "stream",
     "text": [
      "\n",
      "Todo List Menu:\n",
      "1. Add Task\n",
      "2. Delete Task\n",
      "3. Mark Task as Completed\n",
      "4. Display Tasks\n",
      "5. Exit\n",
      "Enter your choice: 4\n",
      "1. [◻] Gym\n",
      "\n",
      "Todo List Menu:\n",
      "1. Add Task\n",
      "2. Delete Task\n",
      "3. Mark Task as Completed\n",
      "4. Display Tasks\n",
      "5. Exit\n"
     ]
    }
   ],
   "source": [
    "main()"
   ]
  },
  {
   "cell_type": "code",
   "execution_count": null,
   "id": "bce1bb1a",
   "metadata": {},
   "outputs": [],
   "source": []
  }
 ],
 "metadata": {
  "kernelspec": {
   "display_name": "Python 3 (ipykernel)",
   "language": "python",
   "name": "python3"
  },
  "language_info": {
   "codemirror_mode": {
    "name": "ipython",
    "version": 3
   },
   "file_extension": ".py",
   "mimetype": "text/x-python",
   "name": "python",
   "nbconvert_exporter": "python",
   "pygments_lexer": "ipython3",
   "version": "3.10.9"
  }
 },
 "nbformat": 4,
 "nbformat_minor": 5
}
